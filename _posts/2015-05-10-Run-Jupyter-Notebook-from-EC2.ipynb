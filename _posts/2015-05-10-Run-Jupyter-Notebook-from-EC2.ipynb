---
layout: post
title:  "Run Jupyter Notebook from AWS EC2"
date:   2017-05-10
categories: jekyll update
---


This is a tutorial adapted from Chris Albon's found [here]https://chrisalbon.com/jupyter/run_project_jupyter_on_amazon_ec2.html, which is a tutorial adapted from one linked on his page. There were a couple of things that I needed clarification for, so I wanted to make sure I wrote everything down in the event I need to go through this process again. The thing I learned is that this will only work if you do **literally everything** exactly as shown on this page. Also... using nearly every screen shot from Chris Albon's post so ty.


Assuming you have an AWS account, go to the EC2 page. If you're on the EC2 Dashboard page, click on **Instances** under the main **Instances** sidebar menu. Once on the **Instances** page, hit the big blue **Launch Instance** button.
![Launch Instance]({{ site.baseurl }}/images/launch_instance.png)

### Select Ubuntu
![Ubuntu]({{ site.baseurl }}/images/select_ubuntu.png)
### Select t2.micro-- the only **free tier eligible** option, and then hit the **Next: Configure Instance Details**
![Ubuntu]({{ site.baseurl }}/images/t2_micro.png)

#### You should be directed to a page that says **Step 3**. Don't change anything, but keep hitting **Next:** until you reach **Step 6: Configure Security Group**.
![Ubuntu]({{ site.baseurl }}/images/configure_instance.png)
![Ubuntu]({{ site.baseurl }}/images/security_group.png)

### Make sure that everything matches the above image--especially **Port Range** and **Source**--**Anywhere**. Ignore the warning that shows up about the source. You should have a password protected key pair so you'll be fine. Hit **Review and Launch**, and then **Launch** on the **Step 7: Review Instance Launch** .

### Key pair
#### Assuming you already have a key pair that is password protected, select your key pair and launch. If you don't have a password protected key pair, go to [Chris Albon's]https://chrisalbon.com/jupyter/run_project_jupyter_on_amazon_ec2.html
![Ubuntu]({{ site.baseurl }}/images/key_pair.png)

### **Launch Status**
#### At the bottom of this page, hit the big blue **View Instances** button, and you'll be directed back to the **Instances** page. With your instance selected (blue checkbox), hit **Connect**.
![Connect]({{ site.baseurl }}/images/connect_button.png)

### Get Connection Details
#### Open up a text file, and copy/paste the two lines in yellow squares below. The first line, your Public DNS, will be used later for typing in a URL, and the ssh line will be used to actually connect to your instance.
![Ubuntu]({{ site.baseurl }}/images/connect_info.png)

#### Look in any of your opened terminal windows, and make sure that any/all potential kernels running jupyter notebook are killed. They're using your locathost port 8888, which we need for the EC2 connection. 

### Connect!
#### If you've set up an ssh key before, you should have a .ssh folder presumbly located here: Users\yourname\.ssh. In a new terminal window, cd into .ssh.
#### Paste the line in your text file beginning with **ssh**. the numbers after the **@** are specific to your instance, so it won't work if you type in the connection below.
![Ubuntu]({{ site.baseurl }}/images/connect_with_ssh.png)

#### You'll be asked if you want to continue connecting, shown above. Type **yes** and hit enter.

### Download Anaconda
#### In the same terminal window, copy and paste the provided lines to install Anaconda. If you are so inclined to get the most recent version of Anaconda, go to [Chris Albon's blog]https://chrisalbon.com/jupyter/run_project_jupyter_on_amazon_ec2.html for directions.

```python
wget https://repo.continuum.io/archive/Anaconda3-4.2.0-Linux-x86_64.sh
```
![Ubuntu]({{ site.baseurl }}/images/anaconda.png)

#### Once you see *[ubuntu@ip#####:~$**, the command has finished running. You can then paste in the following line:

```python
bash Anaconda3-4.2.0-Linux-x86_64.sh
```
![Ubuntu]({{ site.baseurl }}/images/anaconda_bash.png)
#### It will ask you to hit enter, so HIT ENTER. A bunch of text describing the licensing will show up, and you just have to hold down the enter button until it scrolls through everything. Stop when you see 
![Ubuntu]({{ site.baseurl }}/images/license_yes_no.png)
#### If you held down the enter button, you'll see what happened to me above--it keeps asking for 'yes' or 'no' as your agreement. Type **yes** and hit enter.



![Ubuntu]({{ site.baseurl }}/images/connect_2.png)


![Ubuntu]({{ site.baseurl }}/images/comes_with_8gig.png)


